{
  "nbformat": 4,
  "nbformat_minor": 0,
  "metadata": {
    "colab": {
      "name": "TDE.ipynb",
      "provenance": [],
      "collapsed_sections": [],
      "authorship_tag": "ABX9TyNh8SiBx5SyHxPVdbVZ33ph",
      "include_colab_link": true
    },
    "kernelspec": {
      "name": "python3",
      "display_name": "Python 3"
    },
    "language_info": {
      "name": "python"
    }
  },
  "cells": [
    {
      "cell_type": "markdown",
      "metadata": {
        "id": "view-in-github",
        "colab_type": "text"
      },
      "source": [
        "<a href=\"https://colab.research.google.com/github/GuilhermeJQA/TDEs/blob/main/TDE.ipynb\" target=\"_parent\"><img src=\"https://colab.research.google.com/assets/colab-badge.svg\" alt=\"Open In Colab\"/></a>"
      ]
    },
    {
      "cell_type": "code",
      "execution_count": null,
      "metadata": {
        "id": "KkRpg6M9np8X"
      },
      "outputs": [],
      "source": [
        "# 1 - A)B)C)    PROGRAMA DE NOTAS \n",
        "\n",
        "nota1 = int(input(\"Digite a nota 1: \"))\n",
        "nota2 = int(input(\"Digite a nota 2: \"))\n",
        "nota3 = int(input(\"Digite a nota 3: \"))\n",
        "media = (nota1 + nota2 + nota3)/3\n",
        "print(\"%.1f\" %(media))\n",
        "if media >= 7 and media <10:\n",
        "  print(\"Aprovado\")\n",
        "elif media == 10:\n",
        "  print(\"Aprovado com distinção\")\n",
        "else:\n",
        "  print(\"Reprovado\")"
      ]
    },
    {
      "cell_type": "code",
      "source": [
        "# 2 - PROGRAMA DE NÚMEROS ENTRE 0 E 10\n",
        "x = int(input(\"Digite um número entre 0 e 10:  \"))\n",
        "while x not in range(0,11):\n",
        "  print(\"Valor inválido tente novamente!\")\n",
        "  x = int(input(\"Digite um número entre 0 e 10:  \"))\n",
        "else:\n",
        "  print(\"Valor válido!\\nObrigado!\")"
      ],
      "metadata": {
        "id": "qg0LYksIqyst"
      },
      "execution_count": null,
      "outputs": []
    },
    {
      "cell_type": "code",
      "source": [
        "# 3 - PROGRAMA (FAHRENHEIT -> CELSIUS) \n",
        "f = int(input(\"Digite uma temperatura em fehrenheit: \"))\n",
        "transforma = 5 * ((f-32) / 9)\n",
        "print(\"Em Celsius são: %.1f Graus\" %(transforma))\n"
      ],
      "metadata": {
        "id": "BNIHaSBYvIA8"
      },
      "execution_count": null,
      "outputs": []
    },
    {
      "cell_type": "code",
      "source": [
        "# 4 - PROGRAMA ANO BISSEXTO OU NÃO\n",
        "ano = int(input(\"Digite um ano: \"))\n",
        "if ano % 4 == 0:\n",
        "  print(\"Esse ano é bissexto\") \n",
        "else:\n",
        "  print(\"Esse ano não é bissexto\")"
      ],
      "metadata": {
        "id": "DeEDUaBmw_m1"
      },
      "execution_count": null,
      "outputs": []
    },
    {
      "cell_type": "code",
      "source": [
        "# 5 - PROGRAMA NÚMEROS PRIMOS\n",
        "n = 1 \n",
        "x = int(input('Voçê deseja saber os números primos até? '))\n",
        "while n < x:\n",
        "  mult = 0\n",
        "  for count in range(3,n):\n",
        "      if (n%count==0):\n",
        "        mult+=1\n",
        "  if mult == 0:\n",
        "      print(n)\n",
        "  n=n+2"
      ],
      "metadata": {
        "id": "5kmgDGziyx8M"
      },
      "execution_count": null,
      "outputs": []
    },
    {
      "cell_type": "code",
      "source": [
        "# 6 - PROGRAMA IDADES E ALTURA\n",
        "idades = []\n",
        "alturas = []\n",
        "\n",
        "for valor in range(0, 5):\n",
        "    idades.append(int(input(\"Digite a idade: \")))\n",
        "    alturas.append(float(input(\"Digite a altura: \")))\n",
        "\n",
        "print(\"Idades na ordem inversa: \")\n",
        "for valor in range(0, 5):\n",
        "    print(idades[len(idades)-1-valor])\n",
        "\n",
        "print(\"Alturas na ordem inversa: \")\n",
        "for valor in range(0, 5):\n",
        "    print(alturas[len(alturas)-1-valor])"
      ],
      "metadata": {
        "id": "lLHBcO0w1H1D"
      },
      "execution_count": null,
      "outputs": []
    },
    {
      "cell_type": "code",
      "source": [
        "# 7 - PROGRAMA INVERTE NÚMERO\n",
        "x = int(input('Digite um número: '))\n",
        "print(int(str(x)[::-1]))\n"
      ],
      "metadata": {
        "id": "97wvplUg19Of"
      },
      "execution_count": null,
      "outputs": []
    }
  ]
}